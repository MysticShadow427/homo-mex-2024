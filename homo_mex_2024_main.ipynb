{
  "cells": [
    {
      "cell_type": "markdown",
      "metadata": {
        "id": "2f3Lb1fffv3u"
      },
      "source": [
        "## Setup"
      ]
    },
    {
      "cell_type": "code",
      "execution_count": null,
      "metadata": {
        "id": "J8aLVKCULAa7"
      },
      "outputs": [],
      "source": [
        "from google.colab import drive\n",
        "drive.mount('/content/drive')"
      ]
    },
    {
      "cell_type": "code",
      "execution_count": null,
      "metadata": {
        "id": "yhm-Jg4H6XRv"
      },
      "outputs": [],
      "source": [
        "!mkdir -p /root/.ssh/\n",
        "!ls -l /root/.ssh/\n",
        "!cp /content/drive/MyDrive/deploy_keys/id_ed25519* /root/.ssh/\n",
        "# Add github as trusted entity\n",
        "!ssh-keyscan github.com >> /root/.ssh/known_hosts\n",
        "!ssh -T git@github.com\n",
        "!git clone git@github.com:MysticShadow427/homo-mex-2024.git"
      ]
    },
    {
      "cell_type": "code",
      "execution_count": null,
      "metadata": {
        "id": "HPHX0Jc06jmO"
      },
      "outputs": [],
      "source": [
        "%cd /content/homo-mex-2024"
      ]
    },
    {
      "cell_type": "code",
      "execution_count": null,
      "metadata": {
        "id": "6xSN43Hw6o30"
      },
      "outputs": [],
      "source": [
        "!pwd"
      ]
    },
    {
      "cell_type": "markdown",
      "metadata": {
        "id": "Dm47R67DfsEG"
      },
      "source": [
        "## LoRA Fine Tuning"
      ]
    },
    {
      "cell_type": "code",
      "source": [
        "!pip install sentence-transformers"
      ],
      "metadata": {
        "id": "HXDRFK2LsOi0"
      },
      "execution_count": null,
      "outputs": []
    },
    {
      "cell_type": "code",
      "execution_count": null,
      "metadata": {
        "id": "4wNZtFHJNG-D"
      },
      "outputs": [],
      "source": [
        "!pip install datasets"
      ]
    },
    {
      "cell_type": "code",
      "execution_count": null,
      "metadata": {
        "id": "kh235ZnfLSx_"
      },
      "outputs": [],
      "source": [
        "!pip install peft accelerate"
      ]
    },
    {
      "cell_type": "code",
      "execution_count": null,
      "metadata": {
        "id": "FWMGJWctKBav"
      },
      "outputs": [],
      "source": [
        "%matplotlib notebook\n",
        "!python /content/homo-mex-2024/src/train_lora_llm.py"
      ]
    },
    {
      "cell_type": "code",
      "execution_count": null,
      "metadata": {
        "id": "xqYHZMeJgIEF"
      },
      "outputs": [],
      "source": [
        "!mkdir /content/lora_results"
      ]
    },
    {
      "cell_type": "code",
      "execution_count": null,
      "metadata": {
        "id": "Q6HxrpK2gDWB"
      },
      "outputs": [],
      "source": [
        "import shutil\n",
        "\n",
        "source_folder = '/content/homo-mex-2024/bert-base-spanish-wwm-uncased-modified-homo-mex'\n",
        "destination_folder = '/content/lora_results/tokenizer'\n",
        "\n",
        "shutil.copytree(source_folder, destination_folder)"
      ]
    },
    {
      "cell_type": "code",
      "execution_count": null,
      "metadata": {
        "id": "iOk4-s4VguTp"
      },
      "outputs": [],
      "source": [
        "source_folder = '/content/homo-mex-2024/bert-base-spanish-wwm-uncased-peft-homo-mex'\n",
        "destination_folder = '/content/lora_results/model'\n",
        "shutil.copytree(source_folder, destination_folder)"
      ]
    },
    {
      "cell_type": "code",
      "execution_count": null,
      "metadata": {
        "id": "uhI9_PpBgAT1"
      },
      "outputs": [],
      "source": [
        "!zip -r /content/result_lora_fine_tune_spanish_bert_folder_10_epochs_all_linear_adapters.zip /content/lora_results"
      ]
    },
    {
      "cell_type": "code",
      "execution_count": null,
      "metadata": {
        "id": "vzuz515wiS3m"
      },
      "outputs": [],
      "source": [
        "import shutil\n",
        "\n",
        "source_file = '/content/result_lora_fine_tune_spanish_bert_folder_10_epochs_all_linear_adapters.zip'\n",
        "destination_folder = '/content/drive/MyDrive'\n",
        "\n",
        "shutil.copy(source_file, destination_folder)\n"
      ]
    },
    {
      "cell_type": "markdown",
      "metadata": {
        "id": "isz4GhlRaXkD"
      },
      "source": [
        "## Full Fine Tuning"
      ]
    },
    {
      "cell_type": "code",
      "execution_count": null,
      "metadata": {
        "id": "B4MtYtkhjbh0"
      },
      "outputs": [],
      "source": [
        "!pip install -U sentence-transformers"
      ]
    },
    {
      "cell_type": "code",
      "execution_count": null,
      "metadata": {
        "id": "KZK1n23-6qBJ"
      },
      "outputs": [],
      "source": [
        "%matplotlib notebook\n",
        "!python /content/homo-mex-2024/src/mex_main.py --epochs 5  --learning_rate 2e-5 --batch_size 16"
      ]
    },
    {
      "cell_type": "code",
      "execution_count": null,
      "metadata": {
        "id": "N9WQuGI364Mv"
      },
      "outputs": [],
      "source": [
        "!zip -r /content/result_full_fine_tune_spanish_bert_folder_random_oversample.zip /content/homo-mex-2024/artifacts\n",
        "from google.colab import files\n",
        "\n",
        "files.download(\"/content/result_full_fine_tune_spanish_bert_folder_random_oversample.zip\")\n"
      ]
    },
    {
      "cell_type": "code",
      "execution_count": null,
      "metadata": {
        "id": "l2bZag-NuMBk"
      },
      "outputs": [],
      "source": [
        "import shutil\n",
        "\n",
        "source_file = '/content/result_full_fine_tune_spanish_bert_folder_random_oversample.zip'\n",
        "destination_folder = '/content/drive/MyDrive'\n",
        "\n",
        "shutil.copy(source_file, destination_folder)\n"
      ]
    },
    {
      "cell_type": "markdown",
      "metadata": {
        "id": "0rWPaS9PDmoP"
      },
      "source": [
        "## XgBoost on Sentence Embeddings"
      ]
    },
    {
      "cell_type": "code",
      "execution_count": null,
      "metadata": {
        "id": "gClOA_AJEJdG"
      },
      "outputs": [],
      "source": [
        "!pip install optuna xgboost imblearn"
      ]
    },
    {
      "cell_type": "code",
      "execution_count": null,
      "metadata": {
        "id": "iNtGHwPXuzqq"
      },
      "outputs": [],
      "source": [
        "!python /content/homo-mex-2024/src/mex_train_xgboost.py --embeddings 'spanish-bert' --augmentation 'smote'"
      ]
    },
    {
      "cell_type": "markdown",
      "metadata": {
        "id": "9zjzLkxkd2YV"
      },
      "source": [
        "## LSTM on Spanish-BERT Features"
      ]
    },
    {
      "cell_type": "code",
      "execution_count": null,
      "metadata": {
        "id": "MbyaQgCfgLBZ"
      },
      "outputs": [],
      "source": [
        "!pip install -U sentence-transformers"
      ]
    },
    {
      "cell_type": "code",
      "execution_count": null,
      "metadata": {
        "id": "FaRj5giGd7TZ"
      },
      "outputs": [],
      "source": [
        "%matplotlib notebook\n",
        "!python /content/homo-mex-2024/src/mex_train_lstm.py --epochs 20 --learning_rate 3e-4 --batch_size 32 --dropout 0.3 --num_layers 2 --hidden_size 192 --bidirectional 0"
      ]
    },
    {
      "cell_type": "code",
      "execution_count": null,
      "metadata": {
        "id": "XiM6NuuJeZ9K"
      },
      "outputs": [],
      "source": [
        "!zip -r /content/result_lstm_spanish_bert_random_oversample_folder.zip /content/homo-mex-2024/artifacts\n",
        "from google.colab import files\n",
        "\n",
        "files.download(\"/content/result_lstm_spanish_bert_random_oversample_folder.zip\")"
      ]
    },
    {
      "cell_type": "code",
      "execution_count": null,
      "metadata": {
        "id": "A04PwjdseiHz"
      },
      "outputs": [],
      "source": [
        "import shutil\n",
        "\n",
        "source_file = '/content/result_lstm_spanish_bert_random_oversample_folder.zip'\n",
        "destination_folder = '/content/drive/MyDrive'\n",
        "\n",
        "shutil.copy(source_file, destination_folder)\n"
      ]
    },
    {
      "cell_type": "markdown",
      "metadata": {
        "id": "dfJNfFUruvt5"
      },
      "source": [
        "## Train Ensemble Models on Raw Oversampled Text"
      ]
    },
    {
      "cell_type": "code",
      "execution_count": null,
      "metadata": {
        "id": "6-fkIO59vWrd"
      },
      "outputs": [],
      "source": [
        "!pip install sentence-transformers"
      ]
    },
    {
      "cell_type": "code",
      "execution_count": null,
      "metadata": {
        "colab": {
          "background_save": true
        },
        "id": "gZPpLOj-yOLb"
      },
      "outputs": [],
      "source": [
        "!python /content/homo-mex-2024/src/mex_train_ensemble.py --epochs 10 --learning_rate 4e-3 --batch_size 32"
      ]
    }
  ],
  "metadata": {
    "accelerator": "GPU",
    "colab": {
      "collapsed_sections": [
        "2f3Lb1fffv3u",
        "0rWPaS9PDmoP",
        "9zjzLkxkd2YV",
        "dfJNfFUruvt5"
      ],
      "gpuType": "T4",
      "provenance": []
    },
    "kernelspec": {
      "display_name": "Python 3",
      "name": "python3"
    },
    "language_info": {
      "name": "python"
    }
  },
  "nbformat": 4,
  "nbformat_minor": 0
}